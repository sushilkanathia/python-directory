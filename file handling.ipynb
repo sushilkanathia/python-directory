{
 "metadata": {
  "language_info": {
   "codemirror_mode": {
    "name": "ipython",
    "version": 3
   },
   "file_extension": ".py",
   "mimetype": "text/x-python",
   "name": "python",
   "nbconvert_exporter": "python",
   "pygments_lexer": "ipython3",
   "version": "3.9.1-final"
  },
  "orig_nbformat": 2,
  "kernelspec": {
   "name": "python3",
   "display_name": "Python 3.9.1 64-bit",
   "metadata": {
    "interpreter": {
     "hash": "c569cd2e17f62341e0f08a54f9a867c3c0d3a6f67454072d7de41a8b5dff8343"
    }
   }
  }
 },
 "nbformat": 4,
 "nbformat_minor": 2,
 "cells": [
  {
   "cell_type": "code",
   "execution_count": 25,
   "metadata": {},
   "outputs": [
    {
     "output_type": "execute_result",
     "data": {
      "text/plain": [
       "'c:\\\\Users\\\\HP\\\\OneDrive\\\\Desktop'"
      ]
     },
     "metadata": {},
     "execution_count": 25
    }
   ],
   "source": [
    "import os\n",
    "# We can use os.getcwd method of the os module. This method returns the current directory in the form of string.\n",
    "os.getcwd()"
   ]
  },
  {
   "cell_type": "code",
   "execution_count": 30,
   "metadata": {},
   "outputs": [],
   "source": [
    "# Here, we can change the current directory path using chdir() method \n",
    "os.chdir(\"C://HP\")"
   ]
  },
  {
   "cell_type": "code",
   "execution_count": 29,
   "metadata": {},
   "outputs": [
    {
     "output_type": "execute_result",
     "data": {
      "text/plain": [
       "'C:\\\\HP'"
      ]
     },
     "metadata": {},
     "execution_count": 29
    }
   ],
   "source": [
    "os.getcwd()"
   ]
  },
  {
   "cell_type": "code",
   "execution_count": 31,
   "metadata": {},
   "outputs": [
    {
     "output_type": "execute_result",
     "data": {
      "text/plain": [
       "['BIN', 'DATA', 'HPQWare', 'McAfeeRules', 'support']"
      ]
     },
     "metadata": {},
     "execution_count": 31
    }
   ],
   "source": [
    "#listdir() function is used to show the files and the subdirectories of the current directory.\n",
    "os.listdir()"
   ]
  },
  {
   "cell_type": "code",
   "execution_count": 32,
   "metadata": {},
   "outputs": [],
   "source": [
    "os.chdir(\"C://desktop\")"
   ]
  },
  {
   "cell_type": "code",
   "execution_count": 35,
   "metadata": {},
   "outputs": [
    {
     "output_type": "execute_result",
     "data": {
      "text/plain": [
       "'C:\\\\desktop'"
      ]
     },
     "metadata": {},
     "execution_count": 35
    }
   ],
   "source": [
    "os.getcwd()"
   ]
  },
  {
   "cell_type": "code",
   "execution_count": 36,
   "metadata": {},
   "outputs": [
    {
     "output_type": "execute_result",
     "data": {
      "text/plain": [
       "['Angry IP Scanner',\n",
       " 'Applause_Crowd_Cheering_sound_effect(256k).mp3',\n",
       " 'autoCompletion',\n",
       " 'AutoTune_Evo_TDM_v6.0.9.2',\n",
       " 'AutoTune_Evo_TDM_v6.0.9.2.zip',\n",
       " 'change.log',\n",
       " 'contextMenu.xml',\n",
       " 'functionList.xml',\n",
       " 'hhheh.mp4',\n",
       " 'john179',\n",
       " 'langs.model.xml',\n",
       " 'LICENSE',\n",
       " 'localization',\n",
       " 'mashi image.jpg',\n",
       " 'notepad++.exe',\n",
       " 'NppShell_06.dll',\n",
       " 'plugins',\n",
       " 'Python_Tutorial_in_Hindi__Learn_Python_in_Hindi__Python_Full_Course_in_Hindi__Python_Tutorial(720p).mp4',\n",
       " 'Python_🐍_Tutorial_For_Beginners_in_Hindi__Learn_Python_Programming_\\udc69\\U0001f7fe\\ud83c\\u200d\\udcbb\\ud83d__Edureka_Hindi(720p).mp4',\n",
       " 'reenaimag.jpg',\n",
       " 'SciLexer.dll',\n",
       " 'shortcuts.xml',\n",
       " 'stylers.model.xml',\n",
       " 'updater']"
      ]
     },
     "metadata": {},
     "execution_count": 36
    }
   ],
   "source": [
    "# We are using listdir() function from the module os to check the all files and subdirectories in the current directory.\n",
    "os.listdir()"
   ]
  },
  {
   "cell_type": "code",
   "execution_count": 39,
   "metadata": {},
   "outputs": [],
   "source": [
    "#mkdir() function is used to making a new directory.\n",
    "\n",
    "os.mkdir('test')"
   ]
  },
  {
   "cell_type": "code",
   "execution_count": 40,
   "metadata": {},
   "outputs": [
    {
     "output_type": "execute_result",
     "data": {
      "text/plain": [
       "'C:\\\\desktop'"
      ]
     },
     "metadata": {},
     "execution_count": 40
    }
   ],
   "source": [
    "os.getcwd()"
   ]
  },
  {
   "cell_type": "code",
   "execution_count": 41,
   "metadata": {},
   "outputs": [
    {
     "output_type": "execute_result",
     "data": {
      "text/plain": [
       "['Angry IP Scanner',\n",
       " 'Applause_Crowd_Cheering_sound_effect(256k).mp3',\n",
       " 'autoCompletion',\n",
       " 'AutoTune_Evo_TDM_v6.0.9.2',\n",
       " 'AutoTune_Evo_TDM_v6.0.9.2.zip',\n",
       " 'change.log',\n",
       " 'contextMenu.xml',\n",
       " 'functionList.xml',\n",
       " 'hhheh.mp4',\n",
       " 'john179',\n",
       " 'langs.model.xml',\n",
       " 'LICENSE',\n",
       " 'localization',\n",
       " 'mashi image.jpg',\n",
       " 'notepad++.exe',\n",
       " 'NppShell_06.dll',\n",
       " 'plugins',\n",
       " 'Python_Tutorial_in_Hindi__Learn_Python_in_Hindi__Python_Full_Course_in_Hindi__Python_Tutorial(720p).mp4',\n",
       " 'Python_🐍_Tutorial_For_Beginners_in_Hindi__Learn_Python_Programming_\\udc69\\U0001f7fe\\ud83c\\u200d\\udcbb\\ud83d__Edureka_Hindi(720p).mp4',\n",
       " 'reenaimag.jpg',\n",
       " 'SciLexer.dll',\n",
       " 'shortcuts.xml',\n",
       " 'stylers.model.xml',\n",
       " 'test',\n",
       " 'updater']"
      ]
     },
     "metadata": {},
     "execution_count": 41
    }
   ],
   "source": [
    "os.listdir()"
   ]
  },
  {
   "cell_type": "code",
   "execution_count": 42,
   "metadata": {},
   "outputs": [],
   "source": [
    "#rename() function is used to rename any file of the current directory.\n",
    "os.rename('test','test1')"
   ]
  },
  {
   "cell_type": "code",
   "execution_count": 43,
   "metadata": {},
   "outputs": [
    {
     "output_type": "execute_result",
     "data": {
      "text/plain": [
       "['Angry IP Scanner',\n",
       " 'Applause_Crowd_Cheering_sound_effect(256k).mp3',\n",
       " 'autoCompletion',\n",
       " 'AutoTune_Evo_TDM_v6.0.9.2',\n",
       " 'AutoTune_Evo_TDM_v6.0.9.2.zip',\n",
       " 'change.log',\n",
       " 'contextMenu.xml',\n",
       " 'functionList.xml',\n",
       " 'hhheh.mp4',\n",
       " 'john179',\n",
       " 'langs.model.xml',\n",
       " 'LICENSE',\n",
       " 'localization',\n",
       " 'mashi image.jpg',\n",
       " 'notepad++.exe',\n",
       " 'NppShell_06.dll',\n",
       " 'plugins',\n",
       " 'Python_Tutorial_in_Hindi__Learn_Python_in_Hindi__Python_Full_Course_in_Hindi__Python_Tutorial(720p).mp4',\n",
       " 'Python_🐍_Tutorial_For_Beginners_in_Hindi__Learn_Python_Programming_\\udc69\\U0001f7fe\\ud83c\\u200d\\udcbb\\ud83d__Edureka_Hindi(720p).mp4',\n",
       " 'reenaimag.jpg',\n",
       " 'SciLexer.dll',\n",
       " 'shortcuts.xml',\n",
       " 'stylers.model.xml',\n",
       " 'test1',\n",
       " 'updater']"
      ]
     },
     "metadata": {},
     "execution_count": 43
    }
   ],
   "source": [
    "os.listdir()"
   ]
  },
  {
   "cell_type": "code",
   "execution_count": 45,
   "metadata": {},
   "outputs": [],
   "source": [
    "#remdir() is used to remove an empty folder or files.\n",
    "os.rmdir('test1')"
   ]
  },
  {
   "cell_type": "code",
   "execution_count": 46,
   "metadata": {},
   "outputs": [
    {
     "output_type": "execute_result",
     "data": {
      "text/plain": [
       "['Angry IP Scanner',\n",
       " 'Applause_Crowd_Cheering_sound_effect(256k).mp3',\n",
       " 'autoCompletion',\n",
       " 'AutoTune_Evo_TDM_v6.0.9.2',\n",
       " 'AutoTune_Evo_TDM_v6.0.9.2.zip',\n",
       " 'change.log',\n",
       " 'contextMenu.xml',\n",
       " 'functionList.xml',\n",
       " 'hhheh.mp4',\n",
       " 'john179',\n",
       " 'langs.model.xml',\n",
       " 'LICENSE',\n",
       " 'localization',\n",
       " 'mashi image.jpg',\n",
       " 'notepad++.exe',\n",
       " 'NppShell_06.dll',\n",
       " 'plugins',\n",
       " 'Python_Tutorial_in_Hindi__Learn_Python_in_Hindi__Python_Full_Course_in_Hindi__Python_Tutorial(720p).mp4',\n",
       " 'Python_🐍_Tutorial_For_Beginners_in_Hindi__Learn_Python_Programming_\\udc69\\U0001f7fe\\ud83c\\u200d\\udcbb\\ud83d__Edureka_Hindi(720p).mp4',\n",
       " 'reenaimag.jpg',\n",
       " 'SciLexer.dll',\n",
       " 'shortcuts.xml',\n",
       " 'stylers.model.xml',\n",
       " 'updater']"
      ]
     },
     "metadata": {},
     "execution_count": 46
    }
   ],
   "source": [
    "os.listdir()"
   ]
  },
  {
   "cell_type": "code",
   "execution_count": null,
   "metadata": {},
   "outputs": [],
   "source": []
  }
 ]
}